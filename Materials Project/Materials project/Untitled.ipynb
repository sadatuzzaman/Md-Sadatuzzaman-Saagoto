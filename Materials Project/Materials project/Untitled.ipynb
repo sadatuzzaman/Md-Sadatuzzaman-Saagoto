version https://git-lfs.github.com/spec/v1
oid sha256:9b5e1dc9d9e0fab0058afcd6fa0e49143659593c8a6216b6d67a217df59aa6cb
size 17993
