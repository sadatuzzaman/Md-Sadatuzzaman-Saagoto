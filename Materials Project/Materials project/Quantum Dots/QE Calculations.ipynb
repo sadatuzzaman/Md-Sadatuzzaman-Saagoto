version https://git-lfs.github.com/spec/v1
oid sha256:fda7213e77144b2a63ad2f4d7bfaa4ba112b885da7e7a52efa48be8daa516a31
size 18862
