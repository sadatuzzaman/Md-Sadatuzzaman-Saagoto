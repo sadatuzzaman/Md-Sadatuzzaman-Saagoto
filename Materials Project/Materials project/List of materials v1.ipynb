version https://git-lfs.github.com/spec/v1
oid sha256:b4cd281fb6f3c80d216e8fc255472fe4b4dc237bd8786780dac848c743c5b6b5
size 35904
